{
 "cells": [
  {
   "cell_type": "code",
   "execution_count": 1,
   "metadata": {
    "collapsed": true
   },
   "outputs": [],
   "source": [
    "import sys\n",
    "from xml.dom import minidom\n",
    "import pandas as pd\n",
    "import numpy as np\n",
    "from pykalman import KalmanFilter"
   ]
  },
  {
   "cell_type": "code",
   "execution_count": 2,
   "metadata": {
    "collapsed": true
   },
   "outputs": [],
   "source": [
    "def output_gpx(points, output_filename):\n",
    "    \"\"\"\n",
    "    Output a GPX file with latitude and longitude from the points DataFrame.\n",
    "    \"\"\"\n",
    "    from xml.dom.minidom import getDOMImplementation\n",
    "    def append_trkpt(pt, trkseg, doc):\n",
    "        trkpt = doc.createElement('trkpt')\n",
    "        trkpt.setAttribute('lat', '%.8f' % (pt['lat']))\n",
    "        trkpt.setAttribute('lon', '%.8f' % (pt['lon']))\n",
    "        trkseg.appendChild(trkpt)\n",
    "    \n",
    "    doc = getDOMImplementation().createDocument(None, 'gpx', None)\n",
    "    trk = doc.createElement('trk')\n",
    "    doc.documentElement.appendChild(trk)\n",
    "    trkseg = doc.createElement('trkseg')\n",
    "    trk.appendChild(trkseg)\n",
    "    \n",
    "    points.apply(append_trkpt, axis=1, trkseg=trkseg, doc=doc)\n",
    "    \n",
    "    with open(output_filename, 'w') as fh:\n",
    "        doc.writexml(fh, indent=' ')"
   ]
  },
  {
   "cell_type": "code",
   "execution_count": 3,
   "metadata": {
    "collapsed": true
   },
   "outputs": [],
   "source": [
    "def element_to_data(element):\n",
    "    lat = float(element.getAttribute('lat'))\n",
    "    lon = float(element.getAttribute('lon'))\n",
    "    return lat, lon"
   ]
  },
  {
   "cell_type": "code",
   "execution_count": 4,
   "metadata": {
    "collapsed": true
   },
   "outputs": [],
   "source": [
    "def get_data(filename):\n",
    "    doc = minidom.parse(filename)\n",
    "    elements = doc.getElementsByTagName('trkpt')\n",
    "    data = pd.DataFrame(list(map(element_to_data,elements)),columns=['lat', 'lon'])\n",
    "    return data"
   ]
  },
  {
   "cell_type": "code",
   "execution_count": 5,
   "metadata": {
    "collapsed": true
   },
   "outputs": [],
   "source": [
    "def compute_dis(lat, lon, lat2, lon2):\n",
    "    R2 = 12742\n",
    "    deltalatD = np.deg2rad(lat2-lat)\n",
    "    deltalonD = np.deg2rad(lon2-lon)\n",
    "    a = (np.sin(deltalatD/2)*np.sin(deltalatD/2)) + np.cos(np.deg2rad(lat))*np.cos(np.deg2rad(lat2))*np.sin(deltalonD/2)*np.sin(deltalonD/2)\n",
    "    return R2*np.arcsin(np.sqrt(a))\n",
    "\n",
    "# reference: \n",
    "# wikipedia page: https://en.wikipedia.org/wiki/Haversine_formula\n",
    "# stackoverflow: https://stackoverflow.com/questions/27928/calculate-distance-between-two-latitude-longitude-points-haversine-formula/21623206"
   ]
  },
  {
   "cell_type": "code",
   "execution_count": 6,
   "metadata": {
    "collapsed": true
   },
   "outputs": [],
   "source": [
    "def distance(data):\n",
    "    data['lat2'] = data['lat'].shift(-1) \n",
    "    data['lon2'] = data['lon'].shift(-1)\n",
    "    data['distance'] = compute_dis(data['lat'], data['lon'], data['lat2'], data['lon2'])\n",
    "    return np.sum(data['distance'])*1000"
   ]
  },
  {
   "cell_type": "code",
   "execution_count": 7,
   "metadata": {
    "collapsed": true
   },
   "outputs": [],
   "source": [
    "def smooth(data):\n",
    "    kalman_data = data[['lat', 'lon']]\n",
    "    initial_state = kalman_data.iloc[0]\n",
    "    ob_stddev = 4  \n",
    "    trans_stddev = 2 \n",
    "    dim = 2\n",
    "    observation_covariance = ob_stddev**2 * np.identity(dim) # TODO: shouldn't be zero\n",
    "    transition_covariance = trans_stddev**2 * np.identity(dim) # TODO: shouldn't be zero\n",
    "    transition = np.identity(dim)\n",
    "    kf = KalmanFilter(\n",
    "    initial_state_mean=initial_state,\n",
    "    initial_state_covariance=observation_covariance,\n",
    "    observation_covariance=observation_covariance,\n",
    "    transition_covariance=transition_covariance,\n",
    "    transition_matrices=transition\n",
    "    )\n",
    "    kalman_smoothed, _ = kf.smooth(kalman_data)\n",
    "    smoothedData = pd.DataFrame(kalman_smoothed, columns=['lat', 'lon'])\n",
    "    return smoothedData"
   ]
  },
  {
   "cell_type": "code",
   "execution_count": 8,
   "metadata": {
    "collapsed": true
   },
   "outputs": [],
   "source": [
    "def main():\n",
    "    filename = \"walk1.gpx\"\n",
    "    points = get_data(filename)\n",
    "    print('Unfiltered distance: %0.2f' % (distance(points),))\n",
    "    \n",
    "    smoothed_points = smooth(points)\n",
    "    print('Filtered distance: %0.2f' % (distance(smoothed_points),))\n",
    "    output_gpx(smoothed_points, 'out.gpx')"
   ]
  },
  {
   "cell_type": "code",
   "execution_count": 9,
   "metadata": {},
   "outputs": [
    {
     "name": "stdout",
     "output_type": "stream",
     "text": [
      "Unfiltered distance: 3186.44\n",
      "Filtered distance: 1373.30\n"
     ]
    },
    {
     "name": "stderr",
     "output_type": "stream",
     "text": [
      "/Library/Frameworks/Python.framework/Versions/3.6/lib/python3.6/site-packages/scipy/linalg/basic.py:1018: RuntimeWarning: internal gelsd driver lwork query error, required iwork dimension not returned. This is likely the result of LAPACK bug 0038, fixed in LAPACK 3.2.2 (released July 21, 2010). Falling back to 'gelss' driver.\n",
      "  warnings.warn(mesg, RuntimeWarning)\n"
     ]
    }
   ],
   "source": [
    "if __name__ == '__main__':\n",
    "    main()"
   ]
  },
  {
   "cell_type": "code",
   "execution_count": null,
   "metadata": {
    "collapsed": true
   },
   "outputs": [],
   "source": []
  }
 ],
 "metadata": {
  "kernelspec": {
   "display_name": "Python 3",
   "language": "python",
   "name": "python3"
  },
  "language_info": {
   "codemirror_mode": {
    "name": "ipython",
    "version": 3
   },
   "file_extension": ".py",
   "mimetype": "text/x-python",
   "name": "python",
   "nbconvert_exporter": "python",
   "pygments_lexer": "ipython3",
   "version": "3.6.1"
  }
 },
 "nbformat": 4,
 "nbformat_minor": 2
}
