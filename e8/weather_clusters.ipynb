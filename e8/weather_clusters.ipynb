{
 "cells": [
  {
   "cell_type": "code",
   "execution_count": 1,
   "metadata": {
    "collapsed": true
   },
   "outputs": [],
   "source": [
    "import numpy as np\n",
    "import pandas as pd\n",
    "import matplotlib.pyplot as plt\n",
    "import sys\n",
    "\n",
    "from sklearn.pipeline import make_pipeline\n",
    "from sklearn.preprocessing import MinMaxScaler\n",
    "from sklearn.decomposition import PCA\n",
    "from sklearn.cluster import KMeans"
   ]
  },
  {
   "cell_type": "code",
   "execution_count": 2,
   "metadata": {
    "collapsed": true
   },
   "outputs": [],
   "source": [
    "def get_pca(X):\n",
    "    \"\"\"\n",
    "    Transform data to 2D points for plotting. Should return an array with shape (n, 2).\n",
    "    \"\"\"\n",
    "    flatten_model = make_pipeline(\n",
    "        MinMaxScaler(),\n",
    "        PCA(2)\n",
    "    )\n",
    "    X2 = flatten_model.fit_transform(X)\n",
    "    assert X2.shape == (X.shape[0], 2)\n",
    "    return X2"
   ]
  },
  {
   "cell_type": "code",
   "execution_count": 3,
   "metadata": {
    "collapsed": true
   },
   "outputs": [],
   "source": [
    "def get_clusters(X):\n",
    "    \"\"\"\n",
    "    Find clusters of the weather data.\n",
    "    \"\"\"\n",
    "    model = make_pipeline(\n",
    "        KMeans(n_clusters=10)\n",
    "    )\n",
    "    model.fit(X)\n",
    "    return model.predict(X)"
   ]
  },
  {
   "cell_type": "code",
   "execution_count": 4,
   "metadata": {},
   "outputs": [],
   "source": [
    "def main():\n",
    "    data = pd.read_csv(\"monthly-data-labelled.csv\")\n",
    "\n",
    "    X = data.iloc[:,1:].values\n",
    "    y = data['city'].values\n",
    "    \n",
    "    X2 = get_pca(X)\n",
    "    clusters = get_clusters(X)\n",
    "    plt.scatter(X2[:, 0], X2[:, 1], c=clusters, cmap='tab10', edgecolor='k', s=20)\n",
    "    plt.savefig('clusters.png')\n",
    "\n",
    "    df = pd.DataFrame({\n",
    "        'cluster': clusters,\n",
    "        'city': y,\n",
    "    })\n",
    "    counts = pd.crosstab(df['city'], df['cluster'])\n",
    "    print(counts)"
   ]
  },
  {
   "cell_type": "code",
   "execution_count": 5,
   "metadata": {},
   "outputs": [
    {
     "name": "stdout",
     "output_type": "stream",
     "text": [
      "cluster          0   1   2   3   4   5   6   7   8   9\n",
      "city                                                  \n",
      "Anchorage        0   4   4  19  12   0   0  17   0   0\n",
      "Atlanta          0   0   0   0   0  45   2   0   0   0\n",
      "Atlantic City    0   0   0   0   0  38   0   0   7   0\n",
      "Calgary          0   2   0   0   9   0   0   0   4  37\n",
      "Chicago          0   1   0   0   0   1   0   0   2  48\n",
      "Denver           0   0   0   0   0   9   0   0   0   0\n",
      "Edmonton         0  14   0   3  21   0   0   9   0   4\n",
      "Gander           0  13   9   7   1   0   0  19   0   2\n",
      "Halifax          0  12   0   0   0   0   0   0   0  38\n",
      "London           0   4   0   0   0   0   0   0   0  38\n",
      "Los Angeles     39   0   0   0   0   0   0   0   0   0\n",
      "Miami            0   0   0   0   0   0  43   0   0   0\n",
      "Montreal         0  14   2   2   2   0   0   7   0   1\n",
      "New Orleans      0   0   0   0   0   0  45   0   0   0\n",
      "Ottawa           0  23   2   3   7   0   0  10   0   6\n",
      "Portland         0   0   0   0   0   7   0   0  31   0\n",
      "Québec           0   0  23   2   0   0   0  10   0   0\n",
      "Raleigh Durham   0   0   0   0   0  56   0   0   0   0\n",
      "Regina           0  15   0   0  22   0   0   4   0   1\n",
      "San Francisco   38   0   0   0   0   0   0   0   0   0\n",
      "Saskatoon        0   8   0   0  32   0   0   4   0   1\n",
      "Seattle          0   0   0   0   0   0   0   0  43   0\n",
      "Toronto          0   0   0   0   0   0   0   0   1  52\n",
      "Vancouver        0   0   0   0   0   0   0   0  53   0\n",
      "Victoria         0   0   0   0   0   0   0   0  52   0\n",
      "Winnipeg         0   9   0   1  26   0   0   7   0   0\n"
     ]
    }
   ],
   "source": [
    "if __name__ == '__main__':\n",
    "    main()"
   ]
  },
  {
   "cell_type": "code",
   "execution_count": null,
   "metadata": {
    "collapsed": true
   },
   "outputs": [],
   "source": []
  }
 ],
 "metadata": {
  "kernelspec": {
   "display_name": "Python 3",
   "language": "python",
   "name": "python3"
  },
  "language_info": {
   "codemirror_mode": {
    "name": "ipython",
    "version": 3
   },
   "file_extension": ".py",
   "mimetype": "text/x-python",
   "name": "python",
   "nbconvert_exporter": "python",
   "pygments_lexer": "ipython3",
   "version": "3.6.1"
  }
 },
 "nbformat": 4,
 "nbformat_minor": 2
}
