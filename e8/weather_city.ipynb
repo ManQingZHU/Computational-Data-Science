{
 "cells": [
  {
   "cell_type": "code",
   "execution_count": 1,
   "metadata": {
    "collapsed": true
   },
   "outputs": [],
   "source": [
    "# import numpy as np\n",
    "# import pandas as pd\n",
    "# import sys\n",
    "# from sklearn.model_selection import train_test_split\n",
    "# from sklearn.pipeline import make_pipeline\n",
    "# from sklearn.preprocessing import StandardScaler\n",
    "\n",
    "# from sklearn.naive_bayes import GaussianNB\n",
    "# from sklearn.neighbors import KNeighborsClassifier\n",
    "# from sklearn.svm import SVC\n",
    "# from sklearn.decomposition import PCA"
   ]
  },
  {
   "cell_type": "code",
   "execution_count": 2,
   "metadata": {
    "collapsed": true
   },
   "outputs": [],
   "source": [
    "# data = pd.read_csv(\"monthly-data-labelled.csv\")\n",
    "# x = data.iloc[:,1:].values\n",
    "# y = data['city'].values"
   ]
  },
  {
   "cell_type": "code",
   "execution_count": 3,
   "metadata": {},
   "outputs": [],
   "source": [
    "# print(x.shape)\n",
    "# print(y.shape)"
   ]
  },
  {
   "cell_type": "code",
   "execution_count": 4,
   "metadata": {
    "collapsed": true
   },
   "outputs": [],
   "source": [
    "# #split training data and testing data\n",
    "# X_train, X_test, y_train, y_test = train_test_split(x, y)"
   ]
  },
  {
   "cell_type": "code",
   "execution_count": 5,
   "metadata": {
    "collapsed": true
   },
   "outputs": [],
   "source": [
    "# scale = StandardScaler()\n",
    "# X_train_std = scale.fit_transform(X_train)\n",
    "# X_test_std = scale.fit_transform(X_test)"
   ]
  },
  {
   "cell_type": "code",
   "execution_count": 6,
   "metadata": {},
   "outputs": [],
   "source": [
    "# bayes_model = GaussianNB()\n",
    "# bayes_model.fit(X_train_std, y_train)\n",
    "# print(bayes_model.score(X_test_std, y_test))"
   ]
  },
  {
   "cell_type": "code",
   "execution_count": 7,
   "metadata": {},
   "outputs": [],
   "source": [
    "# knn_model = KNeighborsClassifier(n_neighbors=11) \n",
    "# knn_model.fit(X_train_std, y_train)\n",
    "# print(knn_model.score(X_test_std, y_test))"
   ]
  },
  {
   "cell_type": "code",
   "execution_count": 8,
   "metadata": {},
   "outputs": [],
   "source": [
    "# svc_model = SVC(kernel='linear', C = 4.5) \n",
    "# svc_model.fit(X_train_std, y_train)\n",
    "# print(svc_model.score(X_test_std, y_test))"
   ]
  },
  {
   "cell_type": "code",
   "execution_count": 9,
   "metadata": {},
   "outputs": [],
   "source": [
    "# pca_svc = make_pipeline(\n",
    "#     PCA(15),\n",
    "#     SVC(kernel='linear', C = 4.5) \n",
    "# )\n",
    "\n",
    "# pca_svc.fit(X_train_std, y_train)\n",
    "# print(pca_svc.score(X_test_std, y_test))"
   ]
  },
  {
   "cell_type": "code",
   "execution_count": 10,
   "metadata": {
    "collapsed": true
   },
   "outputs": [],
   "source": [
    "# data2 = pd.read_csv(\"monthly-data-unlabelled.csv\")"
   ]
  },
  {
   "cell_type": "code",
   "execution_count": 11,
   "metadata": {
    "collapsed": true
   },
   "outputs": [],
   "source": [
    "# x2 = data2.iloc[:,1:].values "
   ]
  },
  {
   "cell_type": "code",
   "execution_count": 12,
   "metadata": {
    "collapsed": true
   },
   "outputs": [],
   "source": [
    "# x2_std = scale.fit_transform(x2)"
   ]
  },
  {
   "cell_type": "code",
   "execution_count": 13,
   "metadata": {
    "collapsed": true
   },
   "outputs": [],
   "source": [
    "# predictions = pca_svc.predict(x2_std)"
   ]
  },
  {
   "cell_type": "code",
   "execution_count": 14,
   "metadata": {},
   "outputs": [],
   "source": [
    "# print(predictions)"
   ]
  },
  {
   "cell_type": "code",
   "execution_count": 15,
   "metadata": {},
   "outputs": [],
   "source": [
    "# print(x2.shape)"
   ]
  },
  {
   "cell_type": "code",
   "execution_count": 16,
   "metadata": {
    "collapsed": true
   },
   "outputs": [],
   "source": [
    "# pd.Series(predictions).to_csv(\"labels.csv\", index=False)"
   ]
  },
  {
   "cell_type": "code",
   "execution_count": 17,
   "metadata": {
    "collapsed": true
   },
   "outputs": [],
   "source": [
    "# df = pd.DataFrame({'truth': y_test, 'prediction': model.predict(X_test)})\n",
    "# print(df[df['truth'] != df['prediction']])"
   ]
  },
  {
   "cell_type": "code",
   "execution_count": 18,
   "metadata": {},
   "outputs": [],
   "source": [
    "import numpy as np\n",
    "import pandas as pd\n",
    "import sys\n",
    "from sklearn.model_selection import train_test_split\n",
    "from sklearn.pipeline import make_pipeline\n",
    "from sklearn.preprocessing import StandardScaler\n",
    "from sklearn.svm import SVC\n",
    "from sklearn.decomposition import PCA\n",
    "\n",
    "OUTPUT_TEMPLATE = (\n",
    "    'scale -> PCA -> SVM:      {svm:.3g} \\n'\n",
    ")\n"
   ]
  },
  {
   "cell_type": "code",
   "execution_count": 21,
   "metadata": {},
   "outputs": [],
   "source": [
    "def main():\n",
    "    data = pd.read_csv(\"monthly-data-labelled.csv\")\n",
    "# \tdata = pd.read_csv(sys.argv[1])\n",
    "    x = data.iloc[:,1:].values\n",
    "    y = data['city'].values\n",
    "\n",
    "\t#split training data and testing data\n",
    "    X_train, X_test, y_train, y_test = train_test_split(x, y)\n",
    "\n",
    "    std_pca_svc = make_pipeline(\n",
    "        StandardScaler(),\n",
    "        PCA(15),\n",
    "        SVC(kernel='linear', C = 4.5) \n",
    "    )\n",
    "\n",
    "    std_pca_svc.fit(X_train, y_train)\n",
    "\n",
    "    print(OUTPUT_TEMPLATE.format(\n",
    "        svm= std_pca_svc.score(X_test, y_test),\n",
    "    ))\n",
    "    data2 = pd.read_csv(\"monthly-data-unlabelled.csv\")\n",
    "# \tdata2 = pd.read_csv(sys.argv[2])\n",
    "    x2 = data2.iloc[:,1:].values \n",
    "    predictions = std_pca_svc.predict(x2)\n",
    "#     pd.Series(predictions).to_csv(sys.argv[3], index=False)\n",
    "    df = pd.DataFrame({'truth': y_test, 'prediction': std_pca_svc.predict(X_test)})\n",
    "    print(df[df['truth'] != df['prediction']])"
   ]
  },
  {
   "cell_type": "code",
   "execution_count": 22,
   "metadata": {},
   "outputs": [
    {
     "name": "stdout",
     "output_type": "stream",
     "text": [
      "scale -> PCA -> SVM:      0.821 \n",
      "\n",
      "         prediction           truth\n",
      "1           Calgary        Edmonton\n",
      "2            London         Toronto\n",
      "12          Toronto          London\n",
      "13           Québec        Montreal\n",
      "19         Montreal         Halifax\n",
      "22        Saskatoon        Edmonton\n",
      "27         Victoria       Vancouver\n",
      "29          Calgary        Winnipeg\n",
      "39      New Orleans         Atlanta\n",
      "41          Toronto          Ottawa\n",
      "44         Portland         Seattle\n",
      "49           Regina       Saskatoon\n",
      "53         Victoria       Vancouver\n",
      "56           Regina       Saskatoon\n",
      "58           Regina       Saskatoon\n",
      "60         Montreal          Ottawa\n",
      "61           Regina        Edmonton\n",
      "69          Chicago          London\n",
      "82          Toronto         Chicago\n",
      "86         Victoria       Vancouver\n",
      "89        Saskatoon          Regina\n",
      "90         Montreal          Ottawa\n",
      "91          Seattle        Victoria\n",
      "101       Saskatoon        Winnipeg\n",
      "102        Edmonton         Calgary\n",
      "103       Saskatoon        Edmonton\n",
      "114        Montreal          Ottawa\n",
      "116          London         Toronto\n",
      "119          Ottawa        Montreal\n",
      "123          Regina       Saskatoon\n",
      "129        Portland         Seattle\n",
      "133         Toronto        Portland\n",
      "152         Chicago         Toronto\n",
      "160         Atlanta  Raleigh Durham\n",
      "162          Ottawa        Montreal\n",
      "170         Seattle        Portland\n",
      "172       Saskatoon        Edmonton\n",
      "174          Regina        Winnipeg\n",
      "175         Seattle        Victoria\n",
      "213          Québec        Montreal\n",
      "230        Victoria       Vancouver\n",
      "233          Ottawa          London\n",
      "236          London         Toronto\n",
      "238          London        Montreal\n",
      "257        Victoria         Seattle\n",
      "259        Edmonton          Regina\n",
      "263         Calgary        Edmonton\n",
      "272       Vancouver        Victoria\n",
      "274         Seattle        Victoria\n",
      "275          Ottawa        Montreal\n",
      "284          Regina       Saskatoon\n",
      "289  Raleigh Durham         Atlanta\n"
     ]
    }
   ],
   "source": [
    "if __name__ == '__main__':\n",
    "    main()\n"
   ]
  },
  {
   "cell_type": "code",
   "execution_count": null,
   "metadata": {
    "collapsed": true
   },
   "outputs": [],
   "source": []
  }
 ],
 "metadata": {
  "kernelspec": {
   "display_name": "Python 3",
   "language": "python",
   "name": "python3"
  },
  "language_info": {
   "codemirror_mode": {
    "name": "ipython",
    "version": 3
   },
   "file_extension": ".py",
   "mimetype": "text/x-python",
   "name": "python",
   "nbconvert_exporter": "python",
   "pygments_lexer": "ipython3",
   "version": "3.6.1"
  }
 },
 "nbformat": 4,
 "nbformat_minor": 2
}
