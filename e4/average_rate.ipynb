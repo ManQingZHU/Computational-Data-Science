{
 "cells": [
  {
   "cell_type": "code",
   "execution_count": 1,
   "metadata": {
    "collapsed": true
   },
   "outputs": [],
   "source": [
    "import sys\n",
    "import pandas as pd\n",
    "from difflib import get_close_matches"
   ]
  },
  {
   "cell_type": "code",
   "execution_count": 2,
   "metadata": {
    "collapsed": true
   },
   "outputs": [],
   "source": [
    "filename1 = \"movie_list.txt\"\n",
    "filename2 = \"movie_ratings.csv\"\n",
    "outputfile = \"output\"  #output.csv"
   ]
  },
  {
   "cell_type": "code",
   "execution_count": 3,
   "metadata": {
    "collapsed": true
   },
   "outputs": [],
   "source": [
    "movies = pd.read_table(filename1,header=None, names=[\"title\"])\n",
    "# ratings = pd.read_table(filename2,)\n",
    "ratings = pd.Series(open(filename2).readlines())"
   ]
  },
  {
   "cell_type": "code",
   "execution_count": 4,
   "metadata": {
    "collapsed": true
   },
   "outputs": [],
   "source": [
    "def CleanRate(rating):\n",
    "    rating = rating.replace('\\n', '')\n",
    "    return rating.rsplit(',',1)"
   ]
  },
  {
   "cell_type": "code",
   "execution_count": 5,
   "metadata": {
    "collapsed": true
   },
   "outputs": [],
   "source": [
    "ratings = ratings.apply(CleanRate)\n",
    "ratings = ratings[1:]"
   ]
  },
  {
   "cell_type": "code",
   "execution_count": 6,
   "metadata": {
    "collapsed": true
   },
   "outputs": [],
   "source": [
    "rate_data = pd.DataFrame.from_items(zip(ratings.index,ratings.values)).T\n"
   ]
  },
  {
   "cell_type": "code",
   "execution_count": 7,
   "metadata": {
    "collapsed": true
   },
   "outputs": [],
   "source": [
    "rate_data = rate_data.rename(columns={0:'title', 1:'rating'})"
   ]
  },
  {
   "cell_type": "code",
   "execution_count": 8,
   "metadata": {
    "collapsed": true
   },
   "outputs": [],
   "source": [
    "join_str = ''\n",
    "def MatchName(name):\n",
    "    res = get_close_matches(name, movies['title'], n=1)\n",
    "    return join_str.join(res)"
   ]
  },
  {
   "cell_type": "code",
   "execution_count": 9,
   "metadata": {
    "collapsed": true
   },
   "outputs": [],
   "source": [
    "rate_data['title'] = rate_data['title'].apply(MatchName)"
   ]
  },
  {
   "cell_type": "code",
   "execution_count": 10,
   "metadata": {
    "collapsed": true
   },
   "outputs": [],
   "source": [
    "# print(rate_data[:15])"
   ]
  },
  {
   "cell_type": "code",
   "execution_count": 11,
   "metadata": {
    "collapsed": true
   },
   "outputs": [],
   "source": [
    "clean_data = rate_data[rate_data['title'].str.len() != 0]"
   ]
  },
  {
   "cell_type": "code",
   "execution_count": 12,
   "metadata": {},
   "outputs": [
    {
     "name": "stderr",
     "output_type": "stream",
     "text": [
      "/Library/Frameworks/Python.framework/Versions/3.6/lib/python3.6/site-packages/ipykernel_launcher.py:1: SettingWithCopyWarning: \n",
      "A value is trying to be set on a copy of a slice from a DataFrame.\n",
      "Try using .loc[row_indexer,col_indexer] = value instead\n",
      "\n",
      "See the caveats in the documentation: http://pandas.pydata.org/pandas-docs/stable/indexing.html#indexing-view-versus-copy\n",
      "  \"\"\"Entry point for launching an IPython kernel.\n"
     ]
    }
   ],
   "source": [
    "clean_data['rating'] = clean_data['rating'].apply(lambda x: int(x))"
   ]
  },
  {
   "cell_type": "code",
   "execution_count": 13,
   "metadata": {
    "collapsed": true
   },
   "outputs": [],
   "source": [
    "grouped_data = clean_data.groupby('title')"
   ]
  },
  {
   "cell_type": "code",
   "execution_count": 14,
   "metadata": {},
   "outputs": [],
   "source": [
    "final_data = grouped_data.aggregate('mean').reset_index()"
   ]
  },
  {
   "cell_type": "code",
   "execution_count": 15,
   "metadata": {},
   "outputs": [],
   "source": [
    "final_data['rating'] = final_data['rating'].round(2)"
   ]
  },
  {
   "cell_type": "code",
   "execution_count": 16,
   "metadata": {},
   "outputs": [
    {
     "name": "stdout",
     "output_type": "stream",
     "text": [
      "                                 title  rating\n",
      "0                     28 Days Later...    7.18\n",
      "1                       A Time to Kill    7.92\n",
      "2                            Anomalisa    7.50\n",
      "3                 Central Intelligence    6.88\n",
      "4                   Dead Poets Society    8.33\n",
      "5                           Detachment    8.14\n",
      "6                    Dial M for Murder    8.12\n",
      "7                    Dog Day Afternoon    8.60\n",
      "8                            El cuerpo    8.44\n",
      "9                              Everest    7.07\n",
      "10              Everybody Wants Some!!    6.88\n",
      "11                        Garden State    8.67\n",
      "12                   God Bless America    7.50\n",
      "13                  Heaven Is for Real    6.12\n",
      "14                    Hitman: Agent 47    5.50\n",
      "15      House at the End of the Street    5.95\n",
      "16              I Spit on Your Grave 2    6.23\n",
      "17                        Intouchables    8.93\n",
      "18                Jûsan-nin no shikaku    8.00\n",
      "19                       Love Actually    8.00\n",
      "20                             Macbeth    7.17\n",
      "21  Madagascar 3: Europe's Most Wanted    6.67\n",
      "22                          Maleficent    7.57\n",
      "23                         Man on Fire    8.44\n",
      "24                   Maps to the Stars    5.86\n",
      "25                       Me Before You    7.59\n",
      "26                      Mrs. Doubtfire    8.50\n",
      "27              Much Ado About Nothing    7.55\n",
      "28        Neighbors 2: Sorority Rising    5.35\n",
      "29                            Non-Stop    7.23\n",
      "30                     P.S. I Love You    6.50\n",
      "31              Paul Blart: Mall Cop 2    5.60\n",
      "32                     Pitch Perfect 2    7.27\n",
      "33                         Poltergeist    8.20\n",
      "34                          Real Steel    8.20\n",
      "35               Shaun the Sheep Movie    7.21\n",
      "36                          Sightseers    6.67\n",
      "37                            Sunshine    7.50\n",
      "38                   Texas Chainsaw 3D    5.19\n",
      "39                 The End of the Tour    7.12\n",
      "40              The Life of David Gale    8.40\n",
      "41                       To the Wonder    5.89\n",
      "42                         Tower Heist    6.20\n",
      "43            Tyler Perry's Temptation    5.00\n",
      "44                              Vaiana    8.00\n",
      "45                   War of the Worlds    8.17\n",
      "46                       Welcome to Me    6.00\n",
      "47                            Why Him?    6.36\n",
      "48                      Wreck-It Ralph    7.83\n"
     ]
    }
   ],
   "source": [
    "final_data = final_data.sort_values('title', axis=0)"
   ]
  },
  {
   "cell_type": "code",
   "execution_count": 17,
   "metadata": {},
   "outputs": [],
   "source": [
    "final_data.to_csv(outputfile,index = False)"
   ]
  },
  {
   "cell_type": "code",
   "execution_count": null,
   "metadata": {
    "collapsed": true
   },
   "outputs": [],
   "source": []
  }
 ],
 "metadata": {
  "kernelspec": {
   "display_name": "Python 3",
   "language": "python",
   "name": "python3"
  },
  "language_info": {
   "codemirror_mode": {
    "name": "ipython",
    "version": 3
   },
   "file_extension": ".py",
   "mimetype": "text/x-python",
   "name": "python",
   "nbconvert_exporter": "python",
   "pygments_lexer": "ipython3",
   "version": "3.6.1"
  }
 },
 "nbformat": 4,
 "nbformat_minor": 2
}
