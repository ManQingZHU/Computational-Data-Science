{
 "cells": [
  {
   "cell_type": "code",
   "execution_count": 1,
   "metadata": {
    "collapsed": true
   },
   "outputs": [],
   "source": [
    "import pandas as pd"
   ]
  },
  {
   "cell_type": "code",
   "execution_count": 2,
   "metadata": {},
   "outputs": [],
   "source": [
    "totals = pd.read_csv('totals.csv').set_index(keys=['name'])\n",
    "counts = pd.read_csv('counts.csv').set_index(keys=['name'])\n",
    "# print(totals)\n",
    "# print(counts)"
   ]
  },
  {
   "cell_type": "code",
   "execution_count": 4,
   "metadata": {},
   "outputs": [
    {
     "name": "stdout",
     "output_type": "stream",
     "text": [
      "City with lowest total precipitation:\n",
      "YELLOWKNIFE A\n"
     ]
    }
   ],
   "source": [
    "# City with lowest total precipitation:\n",
    "total_city = pd.DataFrame.sum(totals, axis=1)\n",
    "min_city = pd.Series.argmin(total_city)\n",
    "print(\"City with lowest total precipitation:\")\n",
    "print(min_city)"
   ]
  },
  {
   "cell_type": "code",
   "execution_count": 14,
   "metadata": {},
   "outputs": [
    {
     "name": "stdout",
     "output_type": "stream",
     "text": [
      "Average precipitation in each month:\n",
      "2016-01    27.779783\n",
      "2016-02    30.426295\n",
      "2016-03    29.410072\n",
      "2016-04    17.966543\n",
      "2016-05    21.344569\n",
      "2016-06    20.694981\n",
      "2016-07    24.977186\n",
      "2016-08    19.856618\n",
      "2016-09    24.065637\n",
      "2016-10    44.684411\n",
      "2016-11    34.615686\n",
      "2016-12    32.366795\n",
      "dtype: float64\n"
     ]
    }
   ],
   "source": [
    "# Average precipitation in each month:\n",
    "total_mon = pd.DataFrame.sum(totals, axis=0)\n",
    "count_mon = pd.DataFrame.sum(counts, axis=0)\n",
    "ave_mon = total_mon.divide(count_mon)\n",
    "print(\"Average precipitation in each month:\")\n",
    "print(ave_mon)"
   ]
  },
  {
   "cell_type": "code",
   "execution_count": 15,
   "metadata": {},
   "outputs": [
    {
     "name": "stdout",
     "output_type": "stream",
     "text": [
      "Average precipitation in each city:\n",
      "name\n",
      "BURNABY SIMON FRASER U            47.778598\n",
      "CALGARY INTL A                    14.333333\n",
      "GANDER INTL A                     39.912329\n",
      "HALIFAX INTL A                    41.445055\n",
      "REVELSTOKE                        23.409972\n",
      "SHERBROOKE                        23.681440\n",
      "TORONTO LESTER B. PEARSON INT'    17.521978\n",
      "VANCOUVER INTL A                  36.522222\n",
      "YELLOWKNIFE A                      6.154270\n",
      "dtype: float64\n"
     ]
    }
   ],
   "source": [
    "# Average precipitation in each city:\n",
    "count_city = pd.DataFrame.sum(counts, axis=1)\n",
    "ave_city = total_city.divide(count_city)\n",
    "print(\"Average precipitation in each city:\")\n",
    "print(ave_city)"
   ]
  },
  {
   "cell_type": "code",
   "execution_count": null,
   "metadata": {
    "collapsed": true
   },
   "outputs": [],
   "source": []
  }
 ],
 "metadata": {
  "kernelspec": {
   "display_name": "Python 3",
   "language": "python",
   "name": "python3"
  },
  "language_info": {
   "codemirror_mode": {
    "name": "ipython",
    "version": 3
   },
   "file_extension": ".py",
   "mimetype": "text/x-python",
   "name": "python",
   "nbconvert_exporter": "python",
   "pygments_lexer": "ipython3",
   "version": "3.6.1"
  }
 },
 "nbformat": 4,
 "nbformat_minor": 2
}
