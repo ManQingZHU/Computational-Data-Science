{
 "cells": [
  {
   "cell_type": "code",
   "execution_count": 1,
   "metadata": {
    "collapsed": true
   },
   "outputs": [],
   "source": [
    "import pandas as pd\n",
    "import numpy as np\n",
    "import matplotlib.pyplot as plt"
   ]
  },
  {
   "cell_type": "code",
   "execution_count": 2,
   "metadata": {
    "collapsed": true
   },
   "outputs": [],
   "source": [
    "file1 = \"data-1.csv\"\n",
    "file2 = \"data-2.csv\"\n",
    "file3 = \"data-3.csv\"\n",
    "file4 = \"data-4.csv\"\n",
    "file5 = \"data-5.csv\""
   ]
  },
  {
   "cell_type": "code",
   "execution_count": 3,
   "metadata": {},
   "outputs": [],
   "source": [
    "def print_pic(file):\n",
    "    data = pd.read_csv(file)\n",
    "    plt.plot(data['x'], data['y'], 'b.')\n",
    "    plt.xlabel('x')\n",
    "    plt.ylabel('y')\n",
    "    plt.show()"
   ]
  },
  {
   "cell_type": "code",
   "execution_count": 4,
   "metadata": {
    "collapsed": true
   },
   "outputs": [],
   "source": [
    "def feature_of_single_var(data):\n",
    "    \n",
    "    res = pd.DataFrame(np.zeros(shape=(4, 2)), columns =['x', 'y'])\n",
    "    res = res.set_index([[\"mean\", 'standard_deviation', 'min', 'max']])\n",
    "    \n",
    "    res['x']['mean'] = np.mean(data['x'])\n",
    "    res['x']['standard_deviation'] = np.std(data['x'])\n",
    "    res['x']['min'] = np.amin(data['x'])\n",
    "    res['x']['max'] = np.amax(data['x'])\n",
    "    \n",
    "    res['y']['mean'] = np.mean(data['y'])\n",
    "    res['y']['standard_deviation'] = np.std(data['y'])\n",
    "    res['y']['min'] = np.amin(data['y'])\n",
    "    res['y']['max'] = np.amax(data['y'])\n",
    "    \n",
    "    return res"
   ]
  },
  {
   "cell_type": "code",
   "execution_count": 5,
   "metadata": {
    "collapsed": true
   },
   "outputs": [],
   "source": [
    "def summarize(file, desc, output):\n",
    "    output.write(\"\\n\"+\"=\"*80+\"\\n\")\n",
    "    data = pd.read_csv(file)\n",
    "    output.write('\\n\"'+file+'\":\\n');\n",
    "    output.write(str(feature_of_single_var(data))+\"\\n\")\n",
    "    output.write(\"\\ncorrelation coefficient:\\t\"+str(np.corrcoef(data['x'], data['y'])[0,1])+\"\\n\")\n",
    "    output.write(\"\\n\"+desc+\"\\n\")"
   ]
  },
  {
   "cell_type": "code",
   "execution_count": 6,
   "metadata": {},
   "outputs": [],
   "source": [
    "# desc1 = 'x and y are highly correlated. x increases as y increases.\\nThe data distributes evenly.'\n",
    "# summarize(file1,desc1)\n",
    "# print_pic(file1)"
   ]
  },
  {
   "cell_type": "code",
   "execution_count": 7,
   "metadata": {},
   "outputs": [],
   "source": [
    "# desc2 = 'x and y are highly correlated. x increases as y increases.\\nThere exist a few outliers.'\n",
    "# summarize(file2,desc2)\n",
    "# print_pic(file2)"
   ]
  },
  {
   "cell_type": "code",
   "execution_count": 8,
   "metadata": {},
   "outputs": [],
   "source": [
    "# desc3 = 'x and y are highly correlated. x increases as y increases.\\nThe points represented by x and y consist of four clusters.'\n",
    "# summarize(file3,desc3)\n",
    "# print_pic(file3)"
   ]
  },
  {
   "cell_type": "code",
   "execution_count": 9,
   "metadata": {},
   "outputs": [],
   "source": [
    "# desc4 = 'x and y are not linear correlated.\\nThe points represented by x and y consist of an \"SFU\" pattern.'\n",
    "# summarize(file4,desc4)\n",
    "# print_pic(file4)"
   ]
  },
  {
   "cell_type": "code",
   "execution_count": 10,
   "metadata": {},
   "outputs": [],
   "source": [
    "# desc5 = 'x and y are not linear correlated.\\nThe points represented by x and y consist of several line segments which are roughly vertical to the x-axis.'\n",
    "# summarize(file5,desc5)\n",
    "# print_pic(file5)"
   ]
  },
  {
   "cell_type": "code",
   "execution_count": 11,
   "metadata": {},
   "outputs": [],
   "source": [
    "def main():\n",
    "    with open(\"summary.txt\",\"w\") as output:\n",
    "        desc1 = 'x and y are highly correlated. x increases as y increases.\\nThe data distributes evenly.'\n",
    "        summarize(file1,desc1,output)\n",
    "    \n",
    "        desc2 = 'x and y are highly correlated. x increases as y increases.\\nThere exist a few outliers.'\n",
    "        summarize(file2,desc2, output)\n",
    "    \n",
    "        desc3 = 'x and y are highly correlated. x increases as y increases.\\nThe points represented by x and y consist of four clusters.'\n",
    "        summarize(file3,desc3, output)\n",
    "    \n",
    "        desc4 = 'x and y are not linear correlated.\\nThe points represented by x and y consist of an \"SFU\" pattern.'\n",
    "        summarize(file4,desc4, output)\n",
    "    \n",
    "        desc5 = 'x and y are not linear correlated.\\nThe points represented by x and y consist of several line segments which are roughly vertical to the x-axis.'\n",
    "        summarize(file5,desc5, output)"
   ]
  },
  {
   "cell_type": "code",
   "execution_count": 12,
   "metadata": {},
   "outputs": [],
   "source": [
    "if __name__ == '__main__':\n",
    "    main()"
   ]
  },
  {
   "cell_type": "code",
   "execution_count": null,
   "metadata": {
    "collapsed": true
   },
   "outputs": [],
   "source": []
  }
 ],
 "metadata": {
  "kernelspec": {
   "display_name": "Python 3",
   "language": "python",
   "name": "python3"
  },
  "language_info": {
   "codemirror_mode": {
    "name": "ipython",
    "version": 3
   },
   "file_extension": ".py",
   "mimetype": "text/x-python",
   "name": "python",
   "nbconvert_exporter": "python",
   "pygments_lexer": "ipython3",
   "version": "3.6.1"
  }
 },
 "nbformat": 4,
 "nbformat_minor": 2
}
