{
 "cells": [
  {
   "cell_type": "code",
   "execution_count": 1,
   "metadata": {
    "collapsed": true
   },
   "outputs": [],
   "source": [
    "import time\n",
    "from implementations import all_implementations\n",
    "import numpy as np \n",
    "import pandas as pd"
   ]
  },
  {
   "cell_type": "code",
   "execution_count": 5,
   "metadata": {},
   "outputs": [],
   "source": [
    "def create_data(test_num):\n",
    "    random_array = np.random.randint(-100000, 100000, size = 200000)\n",
    "    time_data = []\n",
    "    for i in range(test_num):\n",
    "        times = []\n",
    "        for sort in all_implementations:\n",
    "            st = time.time()\n",
    "            res = sort(random_array)\n",
    "            en = time.time()\n",
    "            times.append(en-st)\n",
    "        time_data.append(times)\n",
    "        return pd.DataFrame(time_data, columns=['qs1', 'qs2', 'qs3', 'qs4', 'qs5', 'merge1', 'partition_sort'])"
   ]
  },
  {
   "cell_type": "code",
   "execution_count": 6,
   "metadata": {
    "collapsed": true
   },
   "outputs": [],
   "source": [
    "def main():\n",
    "    test_num = 5\n",
    "    print(\"Creating data...\")\n",
    "    data = create_data(test_num)\n",
    "    data.to_csv('data.csv', index = False)\n",
    "    print(\"Data prepared.\")"
   ]
  },
  {
   "cell_type": "code",
   "execution_count": null,
   "metadata": {
    "collapsed": true
   },
   "outputs": [],
   "source": []
  }
 ],
 "metadata": {
  "kernelspec": {
   "display_name": "Python 3",
   "language": "python",
   "name": "python3"
  },
  "language_info": {
   "codemirror_mode": {
    "name": "ipython",
    "version": 3
   },
   "file_extension": ".py",
   "mimetype": "text/x-python",
   "name": "python",
   "nbconvert_exporter": "python",
   "pygments_lexer": "ipython3",
   "version": "3.6.1"
  }
 },
 "nbformat": 4,
 "nbformat_minor": 2
}
