{
 "cells": [
  {
   "cell_type": "code",
   "execution_count": 1,
   "metadata": {
    "collapsed": true
   },
   "outputs": [],
   "source": [
    "import pandas as pd\n",
    "import numpy as np\n",
    "from scipy import stats\n",
    "from statsmodels.stats.multicomp import pairwise_tukeyhsd\n",
    "import sys"
   ]
  },
  {
   "cell_type": "code",
   "execution_count": 2,
   "metadata": {
    "collapsed": true
   },
   "outputs": [],
   "source": [
    "filename = \"data1.csv\""
   ]
  },
  {
   "cell_type": "code",
   "execution_count": 3,
   "metadata": {},
   "outputs": [],
   "source": [
    "data = pd.read_csv(filename)"
   ]
  },
  {
   "cell_type": "code",
   "execution_count": 4,
   "metadata": {},
   "outputs": [
    {
     "name": "stdout",
     "output_type": "stream",
     "text": [
      "        qs1       qs2       qs3       qs4       qs5    merge1  partition_sort\n",
      "0  0.103716  0.181753  0.179288  0.193738  0.186448  0.224117        0.136847\n",
      "1  0.101405  0.174759  0.173453  0.179411  0.185759  0.230075        0.140913\n",
      "2  0.103064  0.189576  0.184763  0.194583  0.185967  0.223051        0.140062\n",
      "3  0.105713  0.190128  0.182874  0.177625  0.183953  0.221148        0.134409\n",
      "4  0.103125  0.201438  0.181994  0.189982  0.179202  0.213461        0.130741\n",
      "5  0.098986  0.177439  0.178787  0.182189  0.181474  0.214830        0.135206\n",
      "6  0.097794  0.179672  0.176022  0.171929  0.175465  0.212467        0.132185\n",
      "7  0.100721  0.180828  0.177217  0.174832  0.186408  0.212754        0.131493\n",
      "8  0.100211  0.190403  0.177452  0.178220  0.176772  0.212724        0.130373\n",
      "9  0.098991  0.175723  0.178724  0.181178  0.177783  0.213055        0.131942\n"
     ]
    }
   ],
   "source": [
    "print(data[:10])"
   ]
  },
  {
   "cell_type": "code",
   "execution_count": 5,
   "metadata": {
    "collapsed": true
   },
   "outputs": [],
   "source": [
    "anova_p = stats.f_oneway(data['qs1'], data['qs2'], data['qs3'], data['qs4'], data['qs5'], data['merge1'], data['partition_sort']).pvalue"
   ]
  },
  {
   "cell_type": "code",
   "execution_count": 6,
   "metadata": {},
   "outputs": [
    {
     "name": "stdout",
     "output_type": "stream",
     "text": [
      "2.59145069258e-278\n"
     ]
    }
   ],
   "source": [
    "print(anova_p)"
   ]
  },
  {
   "cell_type": "code",
   "execution_count": 7,
   "metadata": {
    "collapsed": true
   },
   "outputs": [],
   "source": [
    "data_melt = pd.melt(data)"
   ]
  },
  {
   "cell_type": "code",
   "execution_count": 9,
   "metadata": {},
   "outputs": [],
   "source": [
    "posthoc = pairwise_tukeyhsd(data_melt['value'], data_melt['variable'], alpha=0.05)"
   ]
  },
  {
   "cell_type": "code",
   "execution_count": 10,
   "metadata": {},
   "outputs": [
    {
     "name": "stdout",
     "output_type": "stream",
     "text": [
      "      Multiple Comparison of Means - Tukey HSD,FWER=0.05     \n",
      "=============================================================\n",
      "    group1         group2     meandiff  lower   upper  reject\n",
      "-------------------------------------------------------------\n",
      "    merge1     partition_sort -0.0835  -0.0867 -0.0802  True \n",
      "    merge1          qs1       -0.1158  -0.1191 -0.1126  True \n",
      "    merge1          qs2        -0.033  -0.0362 -0.0297  True \n",
      "    merge1          qs3       -0.0353  -0.0386 -0.0321  True \n",
      "    merge1          qs4        -0.037  -0.0403 -0.0338  True \n",
      "    merge1          qs5        -0.035  -0.0382 -0.0317  True \n",
      "partition_sort      qs1       -0.0324  -0.0356 -0.0291  True \n",
      "partition_sort      qs2        0.0505   0.0472  0.0537  True \n",
      "partition_sort      qs3        0.0481   0.0449  0.0514  True \n",
      "partition_sort      qs4        0.0465   0.0432  0.0497  True \n",
      "partition_sort      qs5        0.0485   0.0452  0.0517  True \n",
      "     qs1            qs2        0.0828   0.0796  0.0861  True \n",
      "     qs1            qs3        0.0805   0.0773  0.0838  True \n",
      "     qs1            qs4        0.0788   0.0756  0.0821  True \n",
      "     qs1            qs5        0.0808   0.0776  0.0841  True \n",
      "     qs2            qs3       -0.0023  -0.0056  0.0009 False \n",
      "     qs2            qs4        -0.004  -0.0073 -0.0008  True \n",
      "     qs2            qs5        -0.002  -0.0053  0.0012 False \n",
      "     qs3            qs4       -0.0017  -0.0049  0.0016 False \n",
      "     qs3            qs5        0.0003  -0.0029  0.0036 False \n",
      "     qs4            qs5        0.002   -0.0012  0.0053 False \n",
      "-------------------------------------------------------------\n"
     ]
    }
   ],
   "source": [
    "print(posthoc)"
   ]
  },
  {
   "cell_type": "code",
   "execution_count": null,
   "metadata": {
    "collapsed": true
   },
   "outputs": [],
   "source": [
    "qs1_mean = data['mean']"
   ]
  }
 ],
 "metadata": {
  "kernelspec": {
   "display_name": "Python 3",
   "language": "python",
   "name": "python3"
  },
  "language_info": {
   "codemirror_mode": {
    "name": "ipython",
    "version": 3
   },
   "file_extension": ".py",
   "mimetype": "text/x-python",
   "name": "python",
   "nbconvert_exporter": "python",
   "pygments_lexer": "ipython3",
   "version": "3.6.1"
  }
 },
 "nbformat": 4,
 "nbformat_minor": 2
}
