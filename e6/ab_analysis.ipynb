{
 "cells": [
  {
   "cell_type": "code",
   "execution_count": 26,
   "metadata": {
    "collapsed": true
   },
   "outputs": [],
   "source": [
    "import pandas as pd\n",
    "import numpy as np\n",
    "import sys\n",
    "from scipy import stats"
   ]
  },
  {
   "cell_type": "code",
   "execution_count": 2,
   "metadata": {
    "collapsed": true
   },
   "outputs": [],
   "source": [
    "filename = \"searches.json\""
   ]
  },
  {
   "cell_type": "code",
   "execution_count": 3,
   "metadata": {
    "collapsed": true
   },
   "outputs": [],
   "source": [
    "data = pd.read_json(filename, orient='records', lines=True)"
   ]
  },
  {
   "cell_type": "code",
   "execution_count": 4,
   "metadata": {},
   "outputs": [
    {
     "name": "stdout",
     "output_type": "stream",
     "text": [
      "   is_instructor  login_count  search_count       uid\n",
      "0           True            1             2   6061521\n",
      "1          False            4             0  11986457\n",
      "2          False            1             0  15995765\n",
      "3           True            3             0   9106912\n",
      "4          False            1             0   9882383\n",
      "5          False            1             0   5333200\n",
      "6          False            2             0   3583107\n",
      "7           True            1             0  11760157\n",
      "8          False            3             0  13150423\n",
      "9          False            4             2   8004609\n"
     ]
    }
   ],
   "source": [
    "print(data[:10])"
   ]
  },
  {
   "cell_type": "code",
   "execution_count": 22,
   "metadata": {},
   "outputs": [],
   "source": [
    "odd_usr_searched = data[ (data[\"uid\"]%2==1) & (data[\"search_count\"]>0) ][\"uid\"].count();\n",
    "odd_usr_never_searched = data[ (data[\"uid\"]%2==1) & (data[\"search_count\"]==0) ][\"uid\"].count();"
   ]
  },
  {
   "cell_type": "code",
   "execution_count": 23,
   "metadata": {},
   "outputs": [
    {
     "name": "stdout",
     "output_type": "stream",
     "text": [
      "98\n",
      "250\n"
     ]
    }
   ],
   "source": [
    "# print(odd_usr_searched)\n",
    "# print(odd_usr_never_searched)"
   ]
  },
  {
   "cell_type": "code",
   "execution_count": 24,
   "metadata": {},
   "outputs": [],
   "source": [
    "even_usr_searched = data[ (data[\"uid\"]%2==0) & (data[\"search_count\"]>0) ][\"uid\"].count();\n",
    "even_usr_never_searched = data[ (data[\"uid\"]%2==0) & (data[\"search_count\"]==0) ][\"uid\"].count();"
   ]
  },
  {
   "cell_type": "code",
   "execution_count": 25,
   "metadata": {},
   "outputs": [
    {
     "name": "stdout",
     "output_type": "stream",
     "text": [
      "111\n",
      "222\n"
     ]
    }
   ],
   "source": [
    "# print(even_usr_searched)\n",
    "# print(even_usr_never_searched)"
   ]
  },
  {
   "cell_type": "code",
   "execution_count": 29,
   "metadata": {
    "collapsed": true
   },
   "outputs": [],
   "source": [
    "utest_p = stats.mannwhitneyu(data[(data[\"uid\"]%2==0)][\"search_count\"], data[(data[\"uid\"]%2==1)][\"search_count\"]).pvalue"
   ]
  },
  {
   "cell_type": "code",
   "execution_count": 30,
   "metadata": {},
   "outputs": [
    {
     "name": "stdout",
     "output_type": "stream",
     "text": [
      "0.0705910362354\n"
     ]
    }
   ],
   "source": [
    "print(utest_p) # more_searches_p"
   ]
  },
  {
   "cell_type": "code",
   "execution_count": 31,
   "metadata": {
    "collapsed": true
   },
   "outputs": [],
   "source": [
    "contingency = [[odd_usr_searched, odd_usr_never_searched], [even_usr_searched, even_usr_never_searched]]"
   ]
  },
  {
   "cell_type": "code",
   "execution_count": 32,
   "metadata": {
    "collapsed": true
   },
   "outputs": [],
   "source": [
    "_,chitest_p,_,_ = stats.chi2_contingency(contingency)"
   ]
  },
  {
   "cell_type": "code",
   "execution_count": 33,
   "metadata": {},
   "outputs": [
    {
     "name": "stdout",
     "output_type": "stream",
     "text": [
      "0.16762970945\n"
     ]
    }
   ],
   "source": [
    "print(chitest_p) # more_users_p"
   ]
  },
  {
   "cell_type": "code",
   "execution_count": 35,
   "metadata": {},
   "outputs": [],
   "source": [
    "instru_data = data[(data['is_instructor'] == True)]"
   ]
  },
  {
   "cell_type": "code",
   "execution_count": 36,
   "metadata": {
    "collapsed": true
   },
   "outputs": [],
   "source": [
    "instru_utest_p = stats.mannwhitneyu(instru_data[(instru_data[\"uid\"]%2==0)][\"search_count\"], instru_data[(instru_data[\"uid\"]%2==0)][\"search_count\"]).pvalue"
   ]
  },
  {
   "cell_type": "code",
   "execution_count": 37,
   "metadata": {},
   "outputs": [
    {
     "name": "stdout",
     "output_type": "stream",
     "text": [
      "0.499583896223\n"
     ]
    }
   ],
   "source": [
    "print(instru_utest_p) #more_instr_searches_p"
   ]
  },
  {
   "cell_type": "code",
   "execution_count": 38,
   "metadata": {
    "collapsed": true
   },
   "outputs": [],
   "source": [
    "instru_odd_usr_searched = instru_data[ (instru_data[\"uid\"]%2==1) & (instru_data[\"search_count\"]>0) ][\"uid\"].count();\n",
    "instru_odd_usr_never_searched = instru_data[ (instru_data[\"uid\"]%2==1) & (instru_data[\"search_count\"]==0) ][\"uid\"].count();"
   ]
  },
  {
   "cell_type": "code",
   "execution_count": 39,
   "metadata": {},
   "outputs": [
    {
     "name": "stdout",
     "output_type": "stream",
     "text": [
      "33\n",
      "82\n"
     ]
    }
   ],
   "source": [
    "print(instru_odd_usr_searched)\n",
    "print(instru_odd_usr_never_searched)"
   ]
  },
  {
   "cell_type": "code",
   "execution_count": 40,
   "metadata": {
    "collapsed": true
   },
   "outputs": [],
   "source": [
    "instru_even_usr_searched = instru_data[ (instru_data[\"uid\"]%2==0) & (instru_data[\"search_count\"]>0) ][\"uid\"].count();\n",
    "instru_even_usr_never_searched = instru_data[ (instru_data[\"uid\"]%2==0) & (instru_data[\"search_count\"]==0) ][\"uid\"].count();"
   ]
  },
  {
   "cell_type": "code",
   "execution_count": 41,
   "metadata": {},
   "outputs": [
    {
     "name": "stdout",
     "output_type": "stream",
     "text": [
      "50\n",
      "70\n"
     ]
    }
   ],
   "source": [
    "print(instru_even_usr_searched)\n",
    "print(instru_even_usr_never_searched)"
   ]
  },
  {
   "cell_type": "code",
   "execution_count": 42,
   "metadata": {
    "collapsed": true
   },
   "outputs": [],
   "source": [
    "instru_contingency = [[instru_odd_usr_searched, instru_odd_usr_never_searched], [instru_even_usr_searched, instru_even_usr_never_searched]]"
   ]
  },
  {
   "cell_type": "code",
   "execution_count": 43,
   "metadata": {
    "collapsed": true
   },
   "outputs": [],
   "source": [
    "_,instru_chitest_p,_,_ = stats.chi2_contingency(instru_contingency)"
   ]
  },
  {
   "cell_type": "code",
   "execution_count": 44,
   "metadata": {},
   "outputs": [
    {
     "name": "stdout",
     "output_type": "stream",
     "text": [
      "0.052001632771\n"
     ]
    }
   ],
   "source": [
    "print(instru_chitest_p) #more_instr_p"
   ]
  },
  {
   "cell_type": "code",
   "execution_count": null,
   "metadata": {
    "collapsed": true
   },
   "outputs": [],
   "source": []
  }
 ],
 "metadata": {
  "kernelspec": {
   "display_name": "Python 3",
   "language": "python",
   "name": "python3"
  },
  "language_info": {
   "codemirror_mode": {
    "name": "ipython",
    "version": 3
   },
   "file_extension": ".py",
   "mimetype": "text/x-python",
   "name": "python",
   "nbconvert_exporter": "python",
   "pygments_lexer": "ipython3",
   "version": "3.6.1"
  }
 },
 "nbformat": 4,
 "nbformat_minor": 2
}
