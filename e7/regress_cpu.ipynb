{
 "cells": [
  {
   "cell_type": "code",
   "execution_count": 1,
   "metadata": {
    "collapsed": true
   },
   "outputs": [],
   "source": [
    "import numpy as np\n",
    "import pandas as pd\n",
    "import matplotlib.pyplot as plt\n",
    "import sys\n",
    "from pykalman import KalmanFilter\n",
    "from sklearn.linear_model import LinearRegression"
   ]
  },
  {
   "cell_type": "code",
   "execution_count": 2,
   "metadata": {
    "collapsed": true
   },
   "outputs": [],
   "source": [
    "columns = ['temperature', 'cpu_percent', 'fan_rpm', 'sys_load_1']\n",
    "# training_data_file = sys.argv[1]\n",
    "# testing_data_file = sys.argv[2]\n",
    "training_data_file = \"sysinfo-train.csv\"\n",
    "testing_data_file = \"sysinfo-test.csv\""
   ]
  },
  {
   "cell_type": "code",
   "execution_count": 3,
   "metadata": {
    "collapsed": true
   },
   "outputs": [],
   "source": [
    "def get_data(filename):\n",
    "    \"\"\"\n",
    "    Read the given CSV file. Return (sysinfo DataFrame, array of X (input) values, array of y (known output) values).\n",
    "    \"\"\"\n",
    "    sysinfo = pd.read_csv(filename, parse_dates=[0])\n",
    "    sysinfo['next_temp'] = sysinfo['temperature'].shift(-1)\n",
    "    sysinfo = sysinfo.dropna()\n",
    "    return sysinfo, sysinfo[columns].values, sysinfo['next_temp'].values"
   ]
  },
  {
   "cell_type": "code",
   "execution_count": 4,
   "metadata": {
    "collapsed": true
   },
   "outputs": [],
   "source": [
    "def get_trained_coefficients():\n",
    "    \"\"\"\n",
    "    Create and train a model based on the training_data_file data.\n",
    "\n",
    "    Return the model, and the list of coefficients for the 'columns' variables in the regression.\n",
    "    \"\"\"\n",
    "    _, X_train, y_train = get_data(training_data_file)\n",
    "    model = LinearRegression(fit_intercept=False)\n",
    "    model.fit(X_train, y_train)\n",
    "    coefficients = model.coef_\n",
    "    return model, coefficients"
   ]
  },
  {
   "cell_type": "code",
   "execution_count": 5,
   "metadata": {
    "collapsed": true
   },
   "outputs": [],
   "source": [
    "def output_regression(coefficients):\n",
    "    \"\"\"\n",
    "    Print a human-readable summary of the regression results.\n",
    "    \"\"\"\n",
    "    regress = ' + '.join('%.3g*%s' % (coef, col) for col, coef in zip(columns, coefficients))\n",
    "    print('next_temp = ' + regress)"
   ]
  },
  {
   "cell_type": "code",
   "execution_count": 6,
   "metadata": {
    "collapsed": true
   },
   "outputs": [],
   "source": [
    "def plot_errors(model):\n",
    "    \"\"\"\n",
    "    Create a histogram of the residuals after the regression.\n",
    "    \"\"\"\n",
    "    _, X_test, y_test = get_data(testing_data_file)\n",
    "    plt.hist(model.predict(X_test) - y_test, bins=100)\n",
    "    plt.savefig('test_errors.png')"
   ]
  },
  {
   "cell_type": "code",
   "execution_count": 7,
   "metadata": {
    "collapsed": true
   },
   "outputs": [],
   "source": [
    "def smooth_test(coef):\n",
    "    \"\"\"\n",
    "    Do a Kalman filter on the test data, using the prediction derived from the regression.\n",
    "    \"\"\"\n",
    "    sysinfo, X_test, _ = get_data(testing_data_file)\n",
    "\n",
    "    # feel free to tweak these if you think it helps.\n",
    "    transition_stddev = 1.5\n",
    "    observation_stddev = 2.0\n",
    "\n",
    "    dims = X_test.shape[-1]\n",
    "    kalman_data = X_test\n",
    "    initial = X_test[0]\n",
    "    observation_covariance = np.diag([observation_stddev, 2, 10, 1]) ** 2\n",
    "    transition_covariance = np.diag([transition_stddev, 80, 100, 10]) ** 2\n",
    "    transition = np.eye(dims) # transition = identity for all variables\n",
    "\n",
    "    _, coefs = get_trained_coefficients()\n",
    "    transition[0] = coefs\n",
    "\n",
    "    kf = KalmanFilter(\n",
    "        initial_state_mean=initial,\n",
    "        initial_state_covariance=observation_covariance,\n",
    "        observation_covariance=observation_covariance,\n",
    "        transition_covariance=transition_covariance,\n",
    "        transition_matrices=transition,\n",
    "    )\n",
    "    kalman_smoothed, _ = kf.smooth(kalman_data)\n",
    "\n",
    "    plt.figure(figsize=(12, 4))\n",
    "    plt.plot(sysinfo['timestamp'], sysinfo['temperature'], 'b.', alpha=0.5)\n",
    "    plt.plot(sysinfo['timestamp'], kalman_smoothed[:, 0], 'g-')\n",
    "    plt.savefig('smoothed.png')"
   ]
  },
  {
   "cell_type": "code",
   "execution_count": 8,
   "metadata": {
    "collapsed": true
   },
   "outputs": [],
   "source": [
    "def main():\n",
    "    model, coefficients = get_trained_coefficients()\n",
    "    output_regression(coefficients)\n",
    "    plot_errors(model)\n",
    "    smooth_test(coefficients)"
   ]
  },
  {
   "cell_type": "code",
   "execution_count": 9,
   "metadata": {},
   "outputs": [
    {
     "name": "stderr",
     "output_type": "stream",
     "text": [
      "/Library/Frameworks/Python.framework/Versions/3.6/lib/python3.6/site-packages/scipy/linalg/basic.py:1018: RuntimeWarning: internal gelsd driver lwork query error, required iwork dimension not returned. This is likely the result of LAPACK bug 0038, fixed in LAPACK 3.2.2 (released July 21, 2010). Falling back to 'gelss' driver.\n",
      "  warnings.warn(mesg, RuntimeWarning)\n"
     ]
    },
    {
     "name": "stdout",
     "output_type": "stream",
     "text": [
      "next_temp = 0.417*temperature + 0.0924*cpu_percent + 0.0301*fan_rpm + 0.491*sys_load_1\n"
     ]
    }
   ],
   "source": [
    "if __name__ == '__main__':\n",
    "    main()"
   ]
  },
  {
   "cell_type": "code",
   "execution_count": null,
   "metadata": {
    "collapsed": true
   },
   "outputs": [],
   "source": []
  }
 ],
 "metadata": {
  "kernelspec": {
   "display_name": "Python 3",
   "language": "python",
   "name": "python3"
  },
  "language_info": {
   "codemirror_mode": {
    "name": "ipython",
    "version": 3
   },
   "file_extension": ".py",
   "mimetype": "text/x-python",
   "name": "python",
   "nbconvert_exporter": "python",
   "pygments_lexer": "ipython3",
   "version": "3.6.1"
  }
 },
 "nbformat": 4,
 "nbformat_minor": 2
}
